{
  "cells": [
    {
      "cell_type": "code",
      "execution_count": null,
      "metadata": {
        "id": "qbzqhfQlaOXA"
      },
      "outputs": [],
      "source": [
        "import cv2\n",
        "import numpy as np\n",
        "from PIL import Image\n",
        "from pathlib import Path\n",
        "import os\n",
        "import pandas as pd\n",
        "\n",
        "#Code taken from mostly here: https://github.com/aakashjhawar/face-recognition-using-deep-learning/blob/master/recognize_image.py\n",
        "def face_detect(image_path, net):\n",
        "  try:\n",
        "      with Image.open(image_path) as img:\n",
        "          original_image = img.convert(\"RGB\")\n",
        "          original_image = np.array(original_image)\n",
        "  except Exception as e:\n",
        "      print(f\"Error loading image {image_path} with Pillow: {e}\")\n",
        "      return\n",
        "\n",
        "  (h, w) = original_image.shape[:2]\n",
        "  image_bgr = cv2.cvtColor(original_image, cv2.COLOR_RGB2BGR)\n",
        "  blob = cv2.dnn.blobFromImage(cv2.resize(image_bgr, (300, 300)), 1.0, (300, 300), (104.0, 177.0, 123.0))\n",
        "  net.setInput(blob)\n",
        "  detections = net.forward()\n",
        "\n",
        "  for i in range(0, detections.shape[2]):\n",
        "    confidence = detections[0, 0, i, 2]\n",
        "    if confidence > 0.5:\n",
        "        box = detections[0, 0, i, 3:7] * np.array([w, h, w, h])\n",
        "        (startX, startY, endX, endY) = box.astype(\"int\")\n",
        "        cropped_face = image_bgr[startY:endY, startX:endX]\n",
        "        resized_cropped_face = cv2.resize(cropped_face, (224, 224), interpolation=cv2.INTER_AREA)\n",
        "        resized_cropped_face_rgb = cv2.cvtColor(resized_cropped_face, cv2.COLOR_BGR2RGB)\n",
        "        return resized_cropped_face_rgb\n",
        "\n",
        "  resized_image_bgr = cv2.resize(image_bgr, (224, 224), interpolation=cv2.INTER_AREA)\n",
        "  resized_image_rgb = cv2.cvtColor(resized_image_bgr, cv2.COLOR_BGR2RGB)\n",
        "  return resized_image_rgb"
      ]
    },
    {
      "cell_type": "code",
      "source": [
        "import cv2\n",
        "import numpy as np\n",
        "from PIL import Image\n",
        "from pathlib import Path\n",
        "import os\n",
        "\n",
        "def preprocess_test_dataset(img_dir, output_dir, dnn_proto_path, dnn_model_path):\n",
        "    net = cv2.dnn.readNetFromCaffe(dnn_proto_path, dnn_model_path)\n",
        "    Path(output_dir).mkdir(parents=True, exist_ok=True)\n",
        "    img_names = [img_name for img_name in os.listdir(img_dir) if img_name.endswith('.jpg')]\n",
        "    img_names_sorted = sorted(img_names, key=lambda x: int(os.path.splitext(x)[0]))\n",
        "    for img_name in img_names_sorted:\n",
        "        img_path = os.path.join(img_dir, img_name)\n",
        "        processed_image = face_detect(img_path, net)\n",
        "        if processed_image is not None:\n",
        "            processed_image_pil = Image.fromarray(processed_image)\n",
        "            output_path = os.path.join(output_dir, img_name)\n",
        "            processed_image_pil.save(output_path)\n",
        "        else:\n",
        "            print(f\"Skipping {img_path} due to processing error.\")\n",
        "\n",
        "img_dir = 'drive/MyDrive/test'\n",
        "output_dir = 'drive/MyDrive/test_preprocessed'\n",
        "dnn_proto_path = 'drive/MyDrive/deploy.prototxt'\n",
        "dnn_model_path = 'drive/MyDrive/res10_300x300_ssd_iter_140000.caffemodel'\n",
        "\n",
        "preprocess_test_dataset(img_dir, output_dir, dnn_proto_path, dnn_model_path)"
      ],
      "metadata": {
        "id": "QoCIJQomGIhu"
      },
      "execution_count": null,
      "outputs": []
    },
    {
      "cell_type": "code",
      "source": [
        "def preprocess_dataset(annotations_file, img_dir, output_dir, dnn_proto_path, dnn_model_path):\n",
        "    img_labels = pd.read_csv(annotations_file)\n",
        "    net = cv2.dnn.readNetFromCaffe(dnn_proto_path, dnn_model_path)\n",
        "    Path(output_dir).mkdir(parents=True, exist_ok=True)\n",
        "\n",
        "    for index, row in img_labels.iterrows():\n",
        "      img_path = os.path.join(img_dir, row['File Name'])\n",
        "      processed_image = face_detect(img_path, net)\n",
        "      if processed_image is not None:\n",
        "          processed_image_pil = Image.fromarray(processed_image)\n",
        "          output_path = os.path.join(output_dir, row['File Name'])\n",
        "          processed_image_pil.save(output_path)\n",
        "      else:\n",
        "          print(f\"Skipping {img_path} due to processing error.\")\n",
        "\n",
        "annotations_file = 'drive/MyDrive/train.csv'\n",
        "img_dir = 'drive/MyDrive/train'\n",
        "output_dir = 'drive/MyDrive/train_preprocessed'\n",
        "dnn_proto_path = 'drive/MyDrive/deploy.prototxt'\n",
        "dnn_model_path = 'drive/MyDrive/res10_300x300_ssd_iter_140000.caffemodel'\n",
        "preprocess_dataset(annotations_file, img_dir, output_dir, dnn_proto_path, dnn_model_path)"
      ],
      "metadata": {
        "id": "IO4zjT1QUw1d"
      },
      "execution_count": null,
      "outputs": []
    }
  ],
  "metadata": {
    "colab": {
      "provenance": []
    },
    "kernelspec": {
      "display_name": "Python 3",
      "name": "python3"
    },
    "language_info": {
      "name": "python"
    }
  },
  "nbformat": 4,
  "nbformat_minor": 0
}